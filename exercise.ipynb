{
 "cells": [
  {
   "cell_type": "code",
   "execution_count": null,
   "metadata": {},
   "outputs": [],
   "source": [
    "# Libraries and constants\n",
    "import numpy as np\n",
    "import matplotlib.pyplot as plt \n",
    "import time \n",
    "from sklearn import linear_model\n",
    "from termcolor import colored\n",
    "\n",
    "max = 1000\n",
    "tests = 100"
   ]
  }
 ],
 "metadata": {
  "language_info": {
   "name": "python"
  }
 },
 "nbformat": 4,
 "nbformat_minor": 2
}
